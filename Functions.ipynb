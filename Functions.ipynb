{
 "cells": [
  {
   "cell_type": "markdown",
   "id": "9003dab2",
   "metadata": {},
   "source": [
    "# Ownership and Licensing Information\n",
    "\n",
    "## Author\n",
    "**Name:** Hiren Patel  \n",
    "**Contact:** hirenpatel.ds@gmail.com  \n",
    "**Date of Creation:** 15/05/2024  \n",
    "\n",
    "## License\n",
    "This Jupyter Notebook is made available under the MIT License. Below is the full text of the license applicable to this notebook:\n",
    "\n",
    "MIT License\n",
    "Copyright (c) 2024 Hiren Patel\n",
    "Permission is hereby granted, free of charge, to any person obtaining a copy\n",
    "of this software and associated documentation files (the \"Software\"), to deal\n",
    "in the Software without restriction, including without limitation the rights\n",
    "to use, copy, modify, merge, publish, distribute, sublicense, and/or sell\n",
    "copies of the Software, and to permit persons to whom the Software is\n",
    "furnished to do so, subject to the following conditions:\n",
    "The above copyright notice and this permission notice shall be included in all\n",
    "copies or substantial portions of the Software.\n",
    "THE SOFTWARE IS PROVIDED \"AS IS\", WITHOUT WARRANTY OF ANY KIND, EXPRESS OR\n",
    "IMPLIED, INCLUDING BUT NOT LIMITED TO THE WARRANTIES OF MERCHANTABILITY,\n",
    "FITNESS FOR A PARTICULAR PURPOSE AND NONINFRINGEMENT. IN NO EVENT SHALL THE\n",
    "AUTHORS OR COPYRIGHT HOLDERS BE LIABLE FOR ANY CLAIM, DAMAGES OR OTHER\n",
    "LIABILITY, WHETHER IN AN ACTION OF CONTRACT, TORT OR OTHERWISE, ARISING FROM,\n",
    "OUT OF OR IN CONNECTION WITH THE SOFTWARE OR THE USE OR OTHER DEALINGS IN THE\n",
    "SOFTWARE.\n",
    "\n",
    "## Purpose\n",
    "This document is intended to clarify the ownership, licensing, and usage rights of this Jupyter Notebook. For any further inquiries or permissions beyond the scope of this license, please contact the author at the email provided above."
   ]
  },
  {
   "cell_type": "markdown",
   "id": "23d687b9",
   "metadata": {},
   "source": [
    "# Function with `*args` and `**kwargs`\n",
    "\n",
    "In Python, `*args` and `**kwargs` are used in function definitions to allow a variable number of arguments to be passed to the function. They provide flexibility and allow functions to accept any number of positional and keyword arguments, respectively, without needing to specify them explicitly.\n",
    "\n",
    "## Theory of `*args` and `**kwargs`\n",
    "\n",
    "- `*args`: The asterisk (`*`) before a parameter name in a function definition indicates that the function can accept any number of positional arguments. These arguments are passed to the function as a tuple.\n",
    "\n",
    "- `**kwargs`: The double asterisks (`**`) before a parameter name in a function definition indicate that the function can accept any number of keyword arguments. These arguments are passed to the function as a dictionary, where the keys are the parameter names and the values are the argument values.\n",
    "\n",
    "### Syntax\n",
    "\n",
    "```python\n",
    "def my_function(*args, **kwargs):\n",
    "    # function body\n"
   ]
  },
  {
   "cell_type": "code",
   "execution_count": 3,
   "id": "61e9c25e",
   "metadata": {},
   "outputs": [],
   "source": [
    "def list_ap(*numbers):\n",
    "    l = list()\n",
    "    for i in numbers:\n",
    "        l.append(i)\n",
    "    return l\n",
    "    "
   ]
  },
  {
   "cell_type": "code",
   "execution_count": 4,
   "id": "280600f4",
   "metadata": {},
   "outputs": [
    {
     "data": {
      "text/plain": [
       "[1, 2, 3, 4, 5, 6, 7, 8, 9]"
      ]
     },
     "execution_count": 4,
     "metadata": {},
     "output_type": "execute_result"
    }
   ],
   "source": [
    "list_ap(1,2,3,4,5,6,7,8,9)"
   ]
  },
  {
   "cell_type": "code",
   "execution_count": 29,
   "id": "f03ead83",
   "metadata": {},
   "outputs": [],
   "source": [
    "def word_sen(**words):\n",
    "    sen = \"\"\n",
    "    for k,v in words.items():\n",
    "        sen =  sen + ' '+ v\n",
    "    return sen"
   ]
  },
  {
   "cell_type": "code",
   "execution_count": 30,
   "id": "0435f47b",
   "metadata": {},
   "outputs": [
    {
     "data": {
      "text/plain": [
       "' Hiren Patel'"
      ]
     },
     "execution_count": 30,
     "metadata": {},
     "output_type": "execute_result"
    }
   ],
   "source": [
    "word_sen(word1 = \"Hiren\", word2 = 'Patel')"
   ]
  },
  {
   "cell_type": "markdown",
   "id": "9992a97a",
   "metadata": {},
   "source": [
    "## User *args and **kwargs at a same time"
   ]
  },
  {
   "cell_type": "code",
   "execution_count": 85,
   "id": "1203ba98",
   "metadata": {},
   "outputs": [],
   "source": [
    "def test(*numbers, **dic):\n",
    "    return numbers, dic"
   ]
  },
  {
   "cell_type": "code",
   "execution_count": 86,
   "id": "baf20985",
   "metadata": {},
   "outputs": [
    {
     "data": {
      "text/plain": [
       "((1, 2, 5, 4, 6, 8), {'a': 'hh', 'b': 'hiren', 'c': 'kkk'})"
      ]
     },
     "execution_count": 86,
     "metadata": {},
     "output_type": "execute_result"
    }
   ],
   "source": [
    "test(1,2,5,4,6,8,a='hh',b='hiren',c='kkk')"
   ]
  },
  {
   "cell_type": "markdown",
   "id": "0613fec7",
   "metadata": {},
   "source": [
    "## Generator Functions"
   ]
  },
  {
   "cell_type": "code",
   "execution_count": 94,
   "id": "c5540367",
   "metadata": {},
   "outputs": [],
   "source": [
    "def create_lst(*data):\n",
    "    l = list()\n",
    "    for i in data:\n",
    "        if type(i) == int:\n",
    "            l.append(i)\n",
    "    return l"
   ]
  },
  {
   "cell_type": "code",
   "execution_count": 97,
   "id": "7cc39686",
   "metadata": {},
   "outputs": [
    {
     "data": {
      "text/plain": [
       "[1, 5, 6, 6, 6, 2, 5, 2, 2, 5]"
      ]
     },
     "execution_count": 97,
     "metadata": {},
     "output_type": "execute_result"
    }
   ],
   "source": [
    "create_lst(1,5,6,6,6,2,5,2,2,5,\"hhh\",\"ooo\") ##this will create bottleneck"
   ]
  },
  {
   "cell_type": "markdown",
   "id": "30654920",
   "metadata": {},
   "source": [
    "# Yield\n",
    "\n",
    "`yield` is a keyword in Python that is used in generator functions to produce a sequence of values one at a time. It is similar to the `return` statement, but instead of returning a single value and exiting the function, `yield` temporarily suspends the function's execution and returns a value to the caller, maintaining the state of the function for future invocations.\n",
    "\n",
    "## Theory of Yield\n",
    "\n",
    "Yield turns a function into a generator. When a generator function is called, it returns a generator object that can be iterated over to produce values lazily. Each time the `yield` statement is encountered in the generator function, the function's state is saved, and the value is returned to the caller. Subsequent calls to the generator function resume execution from where it was paused, continuing until the function terminates or encounters another `yield` statement.\n",
    "it will not store the data rather it will return data one by one to the user\n",
    "### Syntax of Yield\n",
    "\n",
    "```python\n",
    "def generator_function():\n",
    "    yield value\n",
    "\n"
   ]
  },
  {
   "cell_type": "code",
   "execution_count": 98,
   "id": "7dc53657",
   "metadata": {},
   "outputs": [],
   "source": [
    "def fib(n):\n",
    "    a,b = 0,1\n",
    "    for i in range(n):\n",
    "        yield a\n",
    "        a,b = b, a+b"
   ]
  },
  {
   "cell_type": "code",
   "execution_count": 101,
   "id": "c4c387ca",
   "metadata": {},
   "outputs": [
    {
     "name": "stdout",
     "output_type": "stream",
     "text": [
      "0\n",
      "1\n",
      "1\n",
      "2\n",
      "3\n",
      "5\n",
      "8\n",
      "13\n",
      "21\n",
      "34\n",
      "55\n",
      "89\n",
      "144\n",
      "233\n",
      "377\n",
      "610\n",
      "987\n",
      "1597\n",
      "2584\n",
      "4181\n"
     ]
    }
   ],
   "source": [
    "for i in fib(20):\n",
    "    print(i)"
   ]
  },
  {
   "cell_type": "markdown",
   "id": "5dac739c",
   "metadata": {},
   "source": [
    "# Lambda Function\n",
    "\n",
    "Lambda functions, also known as anonymous functions or lambda expressions, are small, anonymous functions defined using the `lambda` keyword in Python. They are used for creating simple functions without the need to define a formal function using the `def` keyword. Lambda functions are often used in conjunction with higher-order functions like `map()`, `filter()`, and `reduce()`.\n",
    "\n",
    "## Theory of Lambda Function\n",
    "\n",
    "Lambda functions are single-line functions that can have any number of arguments but only one expression. They are defined using the following syntax:\n",
    "\n",
    "```python\n",
    "lambda arguments: expression\n"
   ]
  },
  {
   "cell_type": "code",
   "execution_count": 102,
   "id": "b1106db9",
   "metadata": {},
   "outputs": [],
   "source": [
    "def power(n,p):\n",
    "    return n**p"
   ]
  },
  {
   "cell_type": "code",
   "execution_count": 103,
   "id": "a56d5775",
   "metadata": {},
   "outputs": [
    {
     "data": {
      "text/plain": [
       "243"
      ]
     },
     "execution_count": 103,
     "metadata": {},
     "output_type": "execute_result"
    }
   ],
   "source": [
    "power(3,5)"
   ]
  },
  {
   "cell_type": "code",
   "execution_count": 106,
   "id": "6e9985dc",
   "metadata": {},
   "outputs": [
    {
     "name": "stdout",
     "output_type": "stream",
     "text": [
      "8\n"
     ]
    }
   ],
   "source": [
    "# lambda function is also known as anonymous function which doesn't have name\n",
    "\n",
    "power = lambda n,p : n**p\n",
    "print(power(2,3))"
   ]
  },
  {
   "cell_type": "code",
   "execution_count": 107,
   "id": "618f0586",
   "metadata": {},
   "outputs": [
    {
     "data": {
      "text/plain": [
       "46656"
      ]
     },
     "execution_count": 107,
     "metadata": {},
     "output_type": "execute_result"
    }
   ],
   "source": [
    "power(6,6)"
   ]
  },
  {
   "cell_type": "code",
   "execution_count": 109,
   "id": "dd164371",
   "metadata": {},
   "outputs": [],
   "source": [
    "c_f = lambda c : (9/5) * c + 32"
   ]
  },
  {
   "cell_type": "code",
   "execution_count": 113,
   "id": "e9138350",
   "metadata": {},
   "outputs": [
    {
     "data": {
      "text/plain": [
       "93.2"
      ]
     },
     "execution_count": 113,
     "metadata": {},
     "output_type": "execute_result"
    }
   ],
   "source": [
    "c_f(34)"
   ]
  },
  {
   "cell_type": "code",
   "execution_count": 116,
   "id": "8b15341f",
   "metadata": {},
   "outputs": [],
   "source": [
    "max = lambda a,b : a if a > b else b"
   ]
  },
  {
   "cell_type": "code",
   "execution_count": 117,
   "id": "89cf1d1d",
   "metadata": {},
   "outputs": [
    {
     "data": {
      "text/plain": [
       "52"
      ]
     },
     "execution_count": 117,
     "metadata": {},
     "output_type": "execute_result"
    }
   ],
   "source": [
    "max(4,52)"
   ]
  },
  {
   "cell_type": "code",
   "execution_count": 118,
   "id": "63eb27c9",
   "metadata": {},
   "outputs": [],
   "source": [
    "s = \"Hiren\""
   ]
  },
  {
   "cell_type": "code",
   "execution_count": 119,
   "id": "5b49af5d",
   "metadata": {},
   "outputs": [],
   "source": [
    "length = lambda s : len(s)"
   ]
  },
  {
   "cell_type": "code",
   "execution_count": 122,
   "id": "f20e4cc3",
   "metadata": {},
   "outputs": [
    {
     "name": "stdout",
     "output_type": "stream",
     "text": [
      "5\n"
     ]
    }
   ],
   "source": [
    "print(length(s))"
   ]
  },
  {
   "cell_type": "markdown",
   "id": "642c8956",
   "metadata": {},
   "source": [
    "# Map, Reduce, Filter\n",
    "\n",
    "# Map\n",
    "\n",
    "Map is a built-in Python function that applies a specified function to each item of an iterable (such as lists, tuples, or strings) and returns a new iterator containing the results. It allows for the transformation of elements in an iterable without modifying the original iterable.\n",
    "\n",
    "## Theory of Map\n",
    "\n",
    "The `map()` function takes two arguments: a function and one or more iterables. It applies the specified function to each element of the iterables and returns an iterator containing the results.\n",
    "\n",
    "### Syntax of Map\n",
    "\n",
    "```python\n",
    "map(function, iterable1, iterable2, ...)\n"
   ]
  },
  {
   "cell_type": "code",
   "execution_count": 124,
   "id": "487500a1",
   "metadata": {},
   "outputs": [
    {
     "data": {
      "text/plain": [
       "[1, 4, 9, 16, 25, 36]"
      ]
     },
     "execution_count": 124,
     "metadata": {},
     "output_type": "execute_result"
    }
   ],
   "source": [
    "## create a function that will take list as a input and return square of the list\n",
    "\n",
    "def sq(l):\n",
    "    square = []\n",
    "    for i in l:\n",
    "        square.append(i**2)\n",
    "    return square\n",
    "sq([1,2,3,4,5,6])\n",
    "        "
   ]
  },
  {
   "cell_type": "code",
   "execution_count": 129,
   "id": "a0b528a9",
   "metadata": {},
   "outputs": [
    {
     "name": "stdout",
     "output_type": "stream",
     "text": [
      "[1, 4, 9, 16, 25]\n"
     ]
    }
   ],
   "source": [
    "# map()\n",
    "def sq(n):\n",
    "    return n**2\n",
    "l = list(map(sq,[1,2,3,4,5]))\n",
    "print(l)\n"
   ]
  },
  {
   "cell_type": "code",
   "execution_count": 130,
   "id": "658beb05",
   "metadata": {},
   "outputs": [
    {
     "data": {
      "text/plain": [
       "[1, 16, 81, 256, 625]"
      ]
     },
     "execution_count": 130,
     "metadata": {},
     "output_type": "execute_result"
    }
   ],
   "source": [
    "list(map(lambda x: x**2,l))"
   ]
  },
  {
   "cell_type": "code",
   "execution_count": 131,
   "id": "6026420e",
   "metadata": {},
   "outputs": [
    {
     "data": {
      "text/plain": [
       "[8, 10, 12, 14, 16, 18]"
      ]
     },
     "execution_count": 131,
     "metadata": {},
     "output_type": "execute_result"
    }
   ],
   "source": [
    "#  add 2 lists by using map function\n",
    "\n",
    "l1 = [1,2,3,4,5,6]\n",
    "l2 = [7,8,9,10,11,12]\n",
    "\n",
    "list(map(lambda x,y : x+y, l1,l2))"
   ]
  },
  {
   "cell_type": "code",
   "execution_count": 133,
   "id": "5386ee4f",
   "metadata": {},
   "outputs": [
    {
     "name": "stdout",
     "output_type": "stream",
     "text": [
      "['H', 'I', 'R', 'E', 'N', 'P', 'A', 'T', 'E', 'L']\n"
     ]
    }
   ],
   "source": [
    "# convert word into the single character in the list and make it upper case by using map\n",
    "s = \"HirenPatel\"\n",
    "up = list(map(lambda a: a.upper(), s ))\n",
    "print(up)"
   ]
  },
  {
   "cell_type": "markdown",
   "id": "04351809",
   "metadata": {},
   "source": [
    "# Reduce\n",
    "\n",
    "Reduce is a higher-order function in Python's `functools` module that applies a function of two arguments cumulatively to the items of an iterable, reducing the iterable to a single value. It continually applies the function to pairs of elements from the iterable until it is reduced to a single value.\n",
    "\n",
    "## Theory of Reduce\n",
    "\n",
    "The `reduce()` function takes three arguments: a function, an iterable, and an optional initializer value. It applies the function cumulatively to the items of the iterable, from left to right, and returns the final accumulated result.\n",
    "\n",
    "### Syntax of Reduce\n",
    "\n",
    "```python\n",
    "functools.reduce(function, iterable[, initializer])\n"
   ]
  },
  {
   "cell_type": "code",
   "execution_count": 134,
   "id": "8888782b",
   "metadata": {},
   "outputs": [],
   "source": [
    "from functools import reduce"
   ]
  },
  {
   "cell_type": "code",
   "execution_count": 135,
   "id": "b6a7253b",
   "metadata": {},
   "outputs": [
    {
     "data": {
      "text/plain": [
       "21"
      ]
     },
     "execution_count": 135,
     "metadata": {},
     "output_type": "execute_result"
    }
   ],
   "source": [
    "reduce(lambda x,y: x+y, l1)  ##only 2 args will consider by the reduce"
   ]
  },
  {
   "cell_type": "code",
   "execution_count": 138,
   "id": "62fb6425",
   "metadata": {},
   "outputs": [
    {
     "data": {
      "text/plain": [
       "12"
      ]
     },
     "execution_count": 138,
     "metadata": {},
     "output_type": "execute_result"
    }
   ],
   "source": [
    "# find the maximum number from the given list using reduce\n",
    "reduce(lambda x,y: x if x > y else y, l2)"
   ]
  },
  {
   "cell_type": "markdown",
   "id": "8ca78865",
   "metadata": {},
   "source": [
    "# Filter\n",
    "\n",
    "Filter is a built-in Python function that is used to filter elements from an iterable (such as lists, tuples, or strings) based on a specified condition. It takes two arguments: a function that defines the filtering condition and an iterable to be filtered. The function returns an iterator containing only the elements from the iterable that satisfy the condition.\n",
    "\n",
    "## Theory of Filter\n",
    "\n",
    "The `filter()` function applies the specified function (predicate) to each element of the iterable. If the function returns `True` for an element, the element is included in the filtered output; otherwise, it is excluded.\n",
    "\n",
    "### Syntax of Filter\n",
    "\n",
    "```python\n",
    "filter(function, iterable)\n"
   ]
  },
  {
   "cell_type": "code",
   "execution_count": 145,
   "id": "c9880a5b",
   "metadata": {},
   "outputs": [
    {
     "data": {
      "text/plain": [
       "[2, 4, 6]"
      ]
     },
     "execution_count": 145,
     "metadata": {},
     "output_type": "execute_result"
    }
   ],
   "source": [
    "list(filter(lambda x: x%2 == 0 ,l1))"
   ]
  },
  {
   "cell_type": "code",
   "execution_count": 148,
   "id": "af5dd663",
   "metadata": {},
   "outputs": [
    {
     "data": {
      "text/plain": [
       "[2, 3, 4, 6, 8, 9]"
      ]
     },
     "execution_count": 148,
     "metadata": {},
     "output_type": "execute_result"
    }
   ],
   "source": [
    "# Find positive numbbers from given list using filter function\n",
    "lst = [-1,2,3,0,4,-9,-8,-5,-7,-2,-1,6,8,9]\n",
    "list(filter(lambda x : x > 0, lst))"
   ]
  },
  {
   "cell_type": "code",
   "execution_count": 149,
   "id": "e93f8d0d",
   "metadata": {},
   "outputs": [
    {
     "data": {
      "text/plain": [
       "[-1, -9, -8, -5, -7, -2, -1]"
      ]
     },
     "execution_count": 149,
     "metadata": {},
     "output_type": "execute_result"
    }
   ],
   "source": [
    "# find nagetive numbers:\n",
    "list(filter(lambda x: x < 0,lst))"
   ]
  },
  {
   "cell_type": "code",
   "execution_count": 153,
   "id": "6b70019d",
   "metadata": {},
   "outputs": [
    {
     "data": {
      "text/plain": [
       "['Hiren', 'hhh', 'khush', 'keyur', 'lll']"
      ]
     },
     "execution_count": 153,
     "metadata": {},
     "output_type": "execute_result"
    }
   ],
   "source": [
    "# find out the names which have lesser then 5 character, not including 6\n",
    "names = ['Hiren', 'hhh', 'kshfshif','khush','keyur','lll']\n",
    "list(filter(lambda x: len(x) < 6, names))"
   ]
  },
  {
   "cell_type": "markdown",
   "id": "dfc6b22e",
   "metadata": {},
   "source": [
    "## Python Object Oriented Programming\n",
    "\n",
    "A class is considered a blueprint of objects.\n",
    "\n",
    "We can think of the class as a sketch (prototype) of a house. It contains all the details about the floors, doors, windows, etc.\n",
    "\n",
    "Based on these descriptions, we build the house; the house is the object.\n",
    "\n",
    "Since many houses can be made from the same description, we can create many objects from a class."
   ]
  },
  {
   "cell_type": "code",
   "execution_count": 15,
   "id": "143bb932",
   "metadata": {},
   "outputs": [],
   "source": [
    "class test:\n",
    "    def welcome(self,name):\n",
    "        print(name,\"Welcome to the class!!\")"
   ]
  },
  {
   "cell_type": "code",
   "execution_count": 14,
   "id": "0d05af91",
   "metadata": {},
   "outputs": [
    {
     "ename": "TypeError",
     "evalue": "test.welcome() takes 0 positional arguments but 1 was given",
     "output_type": "error",
     "traceback": [
      "\u001b[1;31m---------------------------------------------------------------------------\u001b[0m",
      "\u001b[1;31mTypeError\u001b[0m                                 Traceback (most recent call last)",
      "Cell \u001b[1;32mIn[14], line 2\u001b[0m\n\u001b[0;32m      1\u001b[0m hiren \u001b[38;5;241m=\u001b[39m test()\n\u001b[1;32m----> 2\u001b[0m hiren\u001b[38;5;241m.\u001b[39mwelcome()\n",
      "\u001b[1;31mTypeError\u001b[0m: test.welcome() takes 0 positional arguments but 1 was given"
     ]
    }
   ],
   "source": [
    "hiren = test()\n",
    "hiren.welcome() #we will require self pointer for the reference"
   ]
  },
  {
   "cell_type": "code",
   "execution_count": 16,
   "id": "40b3bee7",
   "metadata": {},
   "outputs": [
    {
     "name": "stdout",
     "output_type": "stream",
     "text": [
      "Hiren Welcome to the class!!\n",
      "Khushbu Welcome to the class!!\n"
     ]
    }
   ],
   "source": [
    "hiren = test()\n",
    "hiren.welcome(\"Hiren\")\n",
    "khushbu = test()\n",
    "khushbu.welcome(\"Khushbu\")"
   ]
  },
  {
   "cell_type": "code",
   "execution_count": 24,
   "id": "b9685126",
   "metadata": {},
   "outputs": [],
   "source": [
    "class College:\n",
    "    def __init__(self, s_name, s_email, s_ph): # this is inbuilt constructor which is taking the data to the class\n",
    "        self.s_name = s_name\n",
    "        self.s_email = s_email\n",
    "        self.s_ph = s_ph\n",
    "    def get_details(self):\n",
    "        return self.s_name, self.s_email, self.s_ph\n",
    "        "
   ]
  },
  {
   "cell_type": "code",
   "execution_count": 27,
   "id": "4fac5222",
   "metadata": {},
   "outputs": [],
   "source": [
    "Tdec = College(\"hiren\",\"aa@aa.com\",123457)\n",
    "Ck = College(\"ck\",\"cc@ccc.com\",121212)"
   ]
  },
  {
   "cell_type": "code",
   "execution_count": 29,
   "id": "1c96c113",
   "metadata": {},
   "outputs": [
    {
     "name": "stdout",
     "output_type": "stream",
     "text": [
      "('hiren', 'aa@aa.com', 123457)\n",
      "('ck', 'cc@ccc.com', 121212)\n"
     ]
    }
   ],
   "source": [
    "print(Tdec.get_details())\n",
    "print(Ck.get_details())"
   ]
  },
  {
   "cell_type": "code",
   "execution_count": 34,
   "id": "cfd23f57",
   "metadata": {},
   "outputs": [
    {
     "name": "stdout",
     "output_type": "stream",
     "text": [
      "aa@aa.com\n",
      "123457\n",
      "cc@ccc.com\n",
      "121212\n"
     ]
    }
   ],
   "source": [
    "print(Tdec.s_email)\n",
    "print(Tdec.s_ph)\n",
    "print(Ck.s_email)\n",
    "print(Ck.s_ph)"
   ]
  },
  {
   "cell_type": "markdown",
   "id": "1a90edd1",
   "metadata": {},
   "source": [
    "# Polymorphism\n",
    "\n",
    "Polymorphism is a key concept in object-oriented programming (OOP) that allows objects of different classes to be treated as objects of a common superclass. It enables a single interface to be used for different types of objects, providing flexibility and extensibility in software design.\n",
    "\n",
    "## Theory of Polymorphism\n",
    "\n",
    "Polymorphism allows methods to behave differently based on the object they are invoked on. It can be achieved through method overriding and method overloading.\n",
    "\n",
    "### Method Overriding\n",
    "\n",
    "Method overriding occurs when a subclass provides a specific implementation of a method that is already defined in its superclass. The method in the subclass overrides the method in the superclass, allowing objects of the subclass to use the overridden method.\n",
    "\n",
    "### Method Overloading\n",
    "\n",
    "Method overloading refers to defining multiple methods with the same name but different parameters or argument types within a class. Python does not support method overloading directly, but it can be achieved using default parameter values or variable-length arguments.\n"
   ]
  },
  {
   "cell_type": "code",
   "execution_count": 41,
   "id": "6d8b8468",
   "metadata": {},
   "outputs": [],
   "source": [
    "def add(a,b):  #here add function can perform multiple tasks depends on the arg it will change the output\n",
    "    return a+b   ## function behaviour can chamge based on the arguments"
   ]
  },
  {
   "cell_type": "code",
   "execution_count": 42,
   "id": "195ce9c0",
   "metadata": {},
   "outputs": [
    {
     "name": "stdout",
     "output_type": "stream",
     "text": [
      "11\n",
      "Hiren Patel\n",
      "[1, 2, 3, 4, 5, 6, 7, 8, 9, 10]\n"
     ]
    }
   ],
   "source": [
    "print(add(5,6))\n",
    "print(add(\"Hiren \",\"Patel\"))\n",
    "print(add([1,2,3,4,5],[6,7,8,9,10]))"
   ]
  },
  {
   "cell_type": "code",
   "execution_count": 49,
   "id": "41428ba6",
   "metadata": {},
   "outputs": [],
   "source": [
    "# sample example of Polymorphism\n",
    "#  both the methods are the same but the behaviour of the method will change according to the arguments given to it\n",
    "\n",
    "class Ds:\n",
    "    def syllabus(self):\n",
    "        print(\"This is syllabus of Data science course\")\n",
    "class Webdev:\n",
    "    def syllabus(self):\n",
    "        print(\"This is syllabus of Web Development course\")"
   ]
  },
  {
   "cell_type": "code",
   "execution_count": 47,
   "id": "91ea656f",
   "metadata": {},
   "outputs": [],
   "source": [
    "FSDS = Ds()\n",
    "WD = Webdev()\n",
    "lst = [FSDS,WD,WD,FSDS]"
   ]
  },
  {
   "cell_type": "code",
   "execution_count": 48,
   "id": "4df8c49f",
   "metadata": {},
   "outputs": [
    {
     "name": "stdout",
     "output_type": "stream",
     "text": [
      "This is syllabus of Data science course\n",
      "This is syllabus of Web Development course\n",
      "This is syllabus of Web Development course\n",
      "This is syllabus of Data science course\n"
     ]
    }
   ],
   "source": [
    "for i in lst:\n",
    "    i.syllabus()"
   ]
  },
  {
   "cell_type": "markdown",
   "id": "85293faf",
   "metadata": {},
   "source": [
    "# Encapsulation\n",
    "\n",
    "Encapsulation is one of the fundamental principles of object-oriented programming (OOP) that involves bundling the data (attributes) and methods (functions) that operate on the data into a single unit called a class. It allows for the implementation details of a class to be hidden from the outside world, promoting data integrity and code maintainability.\n",
    "\n",
    "## Theory of Encapsulation\n",
    "\n",
    "Encapsulation combines data and methods into a single unit and restricts access to the internal state of objects from outside the class. This is achieved by declaring attributes as private (accessible only within the class) and providing public methods (getters and setters) to manipulate those attributes.\n",
    "\n",
    "### Benefits of Encapsulation\n",
    "\n",
    "- **Data Hiding**: Encapsulation hides the internal state of objects, preventing direct access and manipulation, which helps maintain data integrity.\n",
    "- **Abstraction**: By exposing only essential features through public methods, encapsulation promotes abstraction, allowing users to interact with objects at a higher level without needing to know their internal implementation details.\n",
    "- **Modularity**: Encapsulation promotes modularity by grouping related data and methods together within a class, making it easier to manage and maintain code.\n",
    "\n",
    "\n"
   ]
  },
  {
   "cell_type": "code",
   "execution_count": 56,
   "id": "5437f1f0",
   "metadata": {},
   "outputs": [
    {
     "name": "stdout",
     "output_type": "stream",
     "text": [
      "4\n",
      "5\n",
      "100\n"
     ]
    }
   ],
   "source": [
    "# problem\n",
    "class test:\n",
    "    def __init__(self,a,b):\n",
    "        self.a = a\n",
    "        self.b = b\n",
    "        \n",
    "# now we can access this a and b variable by making object of the class\n",
    "x = test(4,5)\n",
    "print(x.a)\n",
    "print(x.b)\n",
    "# Even you can change the data of variable a and variable b\n",
    "x.a = 100\n",
    "print(x.a) # The data has been changed externally. this is the threat in industry grade programming"
   ]
  },
  {
   "cell_type": "code",
   "execution_count": 73,
   "id": "ac531045",
   "metadata": {},
   "outputs": [
    {
     "name": "stdout",
     "output_type": "stream",
     "text": [
      "Q5\n"
     ]
    },
    {
     "data": {
      "text/plain": [
       "300"
      ]
     },
     "execution_count": 73,
     "metadata": {},
     "output_type": "execute_result"
    }
   ],
   "source": [
    "class Car:\n",
    "    def __init__(self,name, make, model,speed):\n",
    "        self.__name = name\n",
    "        self.__make = make\n",
    "        self.__model = model\n",
    "        self.__speed = 0\n",
    "    def set_speed(self, speed):\n",
    "        self.__speed = 0 if speed < 0 else speed\n",
    "    def get_speed(self):\n",
    "        return self.__speed\n",
    "audi = Car(\"Audi\",\"Q5\",\"2024\",300)\n",
    "# print(audi.name) # This will raise an error\n",
    "print(audi._Car__make) ## we can get the data as we know that how ww have implemented the class. this is std example\n",
    "audi.set_speed(300)\n",
    "audi.get_speed()"
   ]
  },
  {
   "cell_type": "code",
   "execution_count": 105,
   "id": "4d4c0ce2",
   "metadata": {},
   "outputs": [],
   "source": [
    "class Bank:\n",
    "    def __init__(self, balance):\n",
    "        self.__balance = balance\n",
    "        \n",
    "    def deposit(self, amount):\n",
    "        self.__balance += amount\n",
    "    def withraw(self,amount):\n",
    "        if self.__balance > amount:\n",
    "            self.__balance -= amount\n",
    "            \n",
    "            return True\n",
    "        else:\n",
    "            return False\n",
    "    def get_balance(self):\n",
    "        return \"Your Current Balance is: \",self.__balance"
   ]
  },
  {
   "cell_type": "code",
   "execution_count": 106,
   "id": "39f0fcee",
   "metadata": {},
   "outputs": [
    {
     "data": {
      "text/plain": [
       "('Your Current Balance is: ', 65000)"
      ]
     },
     "execution_count": 106,
     "metadata": {},
     "output_type": "execute_result"
    }
   ],
   "source": [
    "hiren = Bank(50000)\n",
    "hiren.deposit(10000)\n",
    "# hiren._Bank__balance\n",
    "hiren.withraw(10000)\n",
    "hiren.deposit(15000)\n",
    "hiren.get_balance()"
   ]
  },
  {
   "cell_type": "code",
   "execution_count": 109,
   "id": "af11aa73",
   "metadata": {},
   "outputs": [],
   "source": [
    "class bank_account1:\n",
    "    def __init__(self,balance):\n",
    "        self.__balance = balance\n",
    "    def deposit(self, amount):\n",
    "        self.__balance += amount\n",
    "    def withraw(self, amount):\n",
    "        if self.__balance > amount:\n",
    "            self.__balance -= amount\n",
    "            return True\n",
    "        else:\n",
    "            return False\n",
    "    def get_balance(self):\n",
    "        return self.__balance"
   ]
  },
  {
   "cell_type": "code",
   "execution_count": 114,
   "id": "241328eb",
   "metadata": {},
   "outputs": [
    {
     "data": {
      "text/plain": [
       "10000"
      ]
     },
     "execution_count": 114,
     "metadata": {},
     "output_type": "execute_result"
    }
   ],
   "source": [
    "m = bank_account1(0)\n",
    "m.withraw(10)\n",
    "m.deposit(10000)\n",
    "m.get_balance()"
   ]
  },
  {
   "cell_type": "code",
   "execution_count": 116,
   "id": "072ea62c",
   "metadata": {},
   "outputs": [
    {
     "data": {
      "text/plain": [
       "5000"
      ]
     },
     "execution_count": 116,
     "metadata": {},
     "output_type": "execute_result"
    }
   ],
   "source": [
    "m.withraw(5000)\n",
    "m.get_balance()"
   ]
  },
  {
   "cell_type": "markdown",
   "id": "51dfd46d",
   "metadata": {},
   "source": [
    "# Inheritance\n",
    "\n",
    "Inheritance is a fundamental concept in object-oriented programming (OOP) that allows a class (subclass) to inherit attributes and methods from another class (superclass). It promotes code reuse and facilitates the creation of a hierarchy of classes with shared characteristics.\n",
    "\n",
    "## Theory of Inheritance\n",
    "\n",
    "Inheritance enables the creation of a new class (subclass) based on an existing class (superclass). The subclass inherits all the attributes and methods of the superclass and can also define its own attributes and methods. \n",
    "\n",
    "### Syntax of Inheritance\n",
    "\n",
    "In Python, inheritance is specified by placing the name of the superclass in parentheses after the name of the subclass during class definition.\n",
    "\n",
    "```python\n",
    "class Superclass:\n",
    "    # superclass attributes and methods\n",
    "\n",
    "class Subclass(Superclass):\n",
    "    # subclass attributes and methods\n"
   ]
  },
  {
   "cell_type": "code",
   "execution_count": 140,
   "id": "bcf33e1c",
   "metadata": {},
   "outputs": [],
   "source": [
    "class GrandParent:\n",
    "    def __init__(self):\n",
    "        self.prop = 4\n",
    "    def prprty(self):\n",
    "        print(\"Property of Grand Prent is\", self.prop)\n",
    "class Parent(GrandParent):\n",
    "    \n",
    "    def prprty(self):\n",
    "        self.prop = self.prop - 2\n",
    "        print(\"Property of Grand Prent is\", self.prop)\n",
    "class Child( Parent):\n",
    "    \n",
    "    def prprty(self):\n",
    "        self.prop = self.prop - 1\n",
    "        print(\"Property of Child is\", self.prop)    \n"
   ]
  },
  {
   "cell_type": "code",
   "execution_count": 143,
   "id": "0f24235d",
   "metadata": {},
   "outputs": [
    {
     "name": "stdout",
     "output_type": "stream",
     "text": [
      "Property of Grand Prent is 2\n",
      "None\n",
      "Property of Child is 3\n",
      "None\n"
     ]
    }
   ],
   "source": [
    "c1 = Child()\n",
    "p1 = Parent() \n",
    "print(p1.prprty())\n",
    "print(c1.prprty())"
   ]
  },
  {
   "cell_type": "code",
   "execution_count": 148,
   "id": "ac441bc4",
   "metadata": {},
   "outputs": [],
   "source": [
    "class Multi:\n",
    "    def one(self):\n",
    "        print(\"This is a parent class method.!!\")\n",
    "class Multi1:\n",
    "    def two(self):\n",
    "        print(\"This is a second Parent class method.!!\")   "
   ]
  },
  {
   "cell_type": "code",
   "execution_count": 149,
   "id": "516c4791",
   "metadata": {},
   "outputs": [],
   "source": [
    "class combine(Multi,Multi1):\n",
    "    pass"
   ]
  },
  {
   "cell_type": "code",
   "execution_count": 150,
   "id": "5c303f11",
   "metadata": {},
   "outputs": [],
   "source": [
    "obj_comb = combine()"
   ]
  },
  {
   "cell_type": "code",
   "execution_count": 154,
   "id": "e2802af8",
   "metadata": {},
   "outputs": [
    {
     "name": "stdout",
     "output_type": "stream",
     "text": [
      "This is a parent class method.!!\n",
      "None\n",
      "This is a second Parent class method.!!\n",
      "None\n"
     ]
    }
   ],
   "source": [
    "print(obj_comb.one())\n",
    "print(obj_comb.two())"
   ]
  },
  {
   "cell_type": "markdown",
   "id": "da6375f8",
   "metadata": {},
   "source": [
    "# Abstraction\n",
    "\n",
    "Abstraction is a fundamental concept in computer science and programming that involves simplifying complex systems by hiding unnecessary details while emphasizing essential features. In programming, abstraction allows developers to focus on high-level concepts without needing to understand all the intricate implementation details.\n",
    "\n",
    "## Theory of Abstraction\n",
    "\n",
    "Abstraction is achieved through the use of abstract data types (ADTs) and abstract classes/interfaces. \n",
    "\n",
    "### Abstract Data Types (ADTs)\n",
    "\n",
    "ADTs define a set of operations on data without specifying how these operations are implemented. This allows programmers to use the data structure without needing to know its underlying representation. Examples of ADTs include lists, stacks, queues, and trees.\n",
    "\n",
    "### Abstract Classes/Interfaces\n",
    "\n",
    "Abstract classes and interfaces provide a blueprint for classes that inherit from them. They contain abstract methods that must be implemented by subclasses. Abstract classes cannot be instantiated, while interfaces define a contract that implementing classes must adhere to.\n",
    "\n",
    "## Real-World Example\n",
    "\n",
    "Consider a car. From a high-level perspective, a driver interacts with a car by using its controls such as steering wheel, pedals, and gear shift. The driver doesn't need to know the intricate details of how the engine, transmission, or braking system works. This is abstraction in action - hiding the internal complexities of the car while providing a simple interface for interaction.\n",
    "\n"
   ]
  },
  {
   "cell_type": "code",
   "execution_count": 158,
   "id": "c0a4d669",
   "metadata": {},
   "outputs": [],
   "source": [
    "import abc\n",
    "class abst:\n",
    "    @abc.abstractmethod\n",
    "    def student_details(self):\n",
    "        pass\n",
    "    @abc.abstractmethod\n",
    "    def assignment_details(self):\n",
    "        pass\n",
    "    @abc.abstractmethod\n",
    "    def stu_marks(self):\n",
    "        pass"
   ]
  },
  {
   "cell_type": "code",
   "execution_count": 167,
   "id": "48987b5a",
   "metadata": {},
   "outputs": [],
   "source": [
    "class Ds(abst):\n",
    "    def student_details(self):\n",
    "        return \"This is from Ds class\"\n",
    "    def assignment_details(self):\n",
    "        return \"this is assigment details from Ds class\"\n",
    "class webdev(Ds):\n",
    "    def stu_marks(self):\n",
    "        return \"This is marks details from the webdev class\""
   ]
  },
  {
   "cell_type": "code",
   "execution_count": 168,
   "id": "ef266fd8",
   "metadata": {},
   "outputs": [
    {
     "name": "stdout",
     "output_type": "stream",
     "text": [
      "This is marks details from the webdev class\n",
      "this is assigment details from Ds class\n"
     ]
    }
   ],
   "source": [
    "s1 = webdev()\n",
    "print(s1.stu_marks())\n",
    "print(s1.assignment_details())"
   ]
  },
  {
   "cell_type": "markdown",
   "id": "033244e4",
   "metadata": {},
   "source": [
    "# Decorators\n",
    "\n",
    "Decorators are a powerful feature in Python that allow you to modify or extend the behavior of functions or methods without changing their actual code. Decorators are implemented using the concept of higher-order functions, closures, and function annotations.\n",
    "\n",
    "## Theory of Decorators\n",
    "\n",
    "In Python, functions are first-class objects, which means they can be passed around as arguments to other functions and can be returned from other functions. This makes it possible to define decorators, which are functions that take another function as input and return a new function that usually extends or modifies the behavior of the original function.\n",
    "\n",
    "### Syntax of Decorators\n",
    "\n",
    "Decorators are typically prefixed with the \"@\" symbol followed by the decorator name. They are placed before the function definition.\n",
    "\n",
    "```python\n",
    "@decorator_name\n",
    "def function_name():\n",
    "    # function body\n"
   ]
  },
  {
   "cell_type": "code",
   "execution_count": 171,
   "id": "ab7b4098",
   "metadata": {},
   "outputs": [],
   "source": [
    "def add():\n",
    "    print(\"Start of the function\")\n",
    "    print(4+5)\n",
    "    print(\"End of the function\")\n",
    "    \n",
    "#  suppose I want to insert this start of the fun and end of this function in each functions. I have to use decorators"
   ]
  },
  {
   "cell_type": "code",
   "execution_count": 172,
   "id": "f923727a",
   "metadata": {},
   "outputs": [
    {
     "name": "stdout",
     "output_type": "stream",
     "text": [
      "Start of the function\n",
      "9\n",
      "End of the function\n"
     ]
    }
   ],
   "source": [
    "add()"
   ]
  },
  {
   "cell_type": "code",
   "execution_count": 180,
   "id": "9a8d1386",
   "metadata": {},
   "outputs": [],
   "source": [
    "def deco(func):\n",
    "    def inner_deco():\n",
    "        print(\"Start of the function\")\n",
    "        func()\n",
    "        print(\"End of the function\")\n",
    "    return inner_deco"
   ]
  },
  {
   "cell_type": "code",
   "execution_count": 181,
   "id": "f1ecfc81",
   "metadata": {},
   "outputs": [],
   "source": [
    "@deco\n",
    "def test():\n",
    "    print(4+5)"
   ]
  },
  {
   "cell_type": "code",
   "execution_count": 182,
   "id": "eeeb30ff",
   "metadata": {},
   "outputs": [
    {
     "name": "stdout",
     "output_type": "stream",
     "text": [
      "Start of the function\n",
      "9\n",
      "End of the function\n"
     ]
    }
   ],
   "source": [
    "test()"
   ]
  },
  {
   "cell_type": "code",
   "execution_count": 183,
   "id": "ca63ad38",
   "metadata": {},
   "outputs": [],
   "source": [
    "import time\n",
    "def timer(func):\n",
    "    def inner_timer():\n",
    "        start = time.time()\n",
    "        func()\n",
    "        end = time.time()\n",
    "        print(end - start)\n",
    "    return inner_timer"
   ]
  },
  {
   "cell_type": "code",
   "execution_count": 196,
   "id": "04957d14",
   "metadata": {},
   "outputs": [],
   "source": [
    "@timer\n",
    "def add():\n",
    "    for i in range(100000000):\n",
    "        pass"
   ]
  },
  {
   "cell_type": "code",
   "execution_count": 197,
   "id": "75fc9cee",
   "metadata": {},
   "outputs": [
    {
     "name": "stdout",
     "output_type": "stream",
     "text": [
      "2.790534734725952\n"
     ]
    }
   ],
   "source": [
    "add()"
   ]
  },
  {
   "cell_type": "markdown",
   "id": "c829c4e8",
   "metadata": {},
   "source": [
    "# Class Method\n",
    "\n",
    "`@classmethod` is a built-in Python decorator that defines a method that is bound to the class rather than to instances of the class. Class methods can access and modify class variables and can be called on the class itself, rather than on instances of the class. They are often used as alternative constructors or to modify class-level attributes.\n",
    "\n",
    "## Theory of Class Method\n",
    "\n",
    "Class methods are defined using the `@classmethod` decorator above the method definition. They take a special first parameter conventionally named `cls`, which refers to the class itself (similar to how `self` refers to the instance in instance methods). Class methods are accessible to the class and can be called using the class name.\n",
    "\n",
    "### Syntax of Class Method\n",
    "\n",
    "```python\n",
    "class MyClass:\n",
    "    @classmethod\n",
    "    def class_method(cls, arg1, arg2, ...):\n",
    "        # method body\n"
   ]
  },
  {
   "cell_type": "code",
   "execution_count": 222,
   "id": "1a9a6301",
   "metadata": {},
   "outputs": [],
   "source": [
    "class Clsmethod:\n",
    "    number = 7465856563\n",
    "    def __init__(self, name,email):\n",
    "        self.name = name\n",
    "        self.email = email\n",
    "    @classmethod\n",
    "    def change_number(cls, ph):\n",
    "        Clsmethod.number = ph\n",
    "    @classmethod\n",
    "    def details(cls,name, email):\n",
    "        return cls(name, email)\n",
    "    def stu_details(self):\n",
    "        return self.name, self.email, Clsmethod.number"
   ]
  },
  {
   "cell_type": "code",
   "execution_count": 223,
   "id": "c02d730d",
   "metadata": {},
   "outputs": [],
   "source": [
    "c1 = Clsmethod.details(\"Hiren\",\"jhjdf\")"
   ]
  },
  {
   "cell_type": "code",
   "execution_count": 224,
   "id": "33eab081",
   "metadata": {},
   "outputs": [
    {
     "data": {
      "text/plain": [
       "'Hiren'"
      ]
     },
     "execution_count": 224,
     "metadata": {},
     "output_type": "execute_result"
    }
   ],
   "source": [
    "c1.name"
   ]
  },
  {
   "cell_type": "code",
   "execution_count": 225,
   "id": "2d5cfadd",
   "metadata": {},
   "outputs": [
    {
     "data": {
      "text/plain": [
       "('Hiren', 'jhjdf', 7465856563)"
      ]
     },
     "execution_count": 225,
     "metadata": {},
     "output_type": "execute_result"
    }
   ],
   "source": [
    "c1.stu_details()"
   ]
  },
  {
   "cell_type": "code",
   "execution_count": 226,
   "id": "93e62ead",
   "metadata": {},
   "outputs": [],
   "source": [
    "c1.change_number(123456789)"
   ]
  },
  {
   "cell_type": "code",
   "execution_count": 227,
   "id": "e5c41982",
   "metadata": {},
   "outputs": [
    {
     "name": "stdout",
     "output_type": "stream",
     "text": [
      "123456789\n"
     ]
    }
   ],
   "source": [
    "print(Clsmethod.number)"
   ]
  },
  {
   "cell_type": "code",
   "execution_count": 228,
   "id": "9a204b58",
   "metadata": {},
   "outputs": [],
   "source": [
    "def marks(cls,marks ):  # external function\n",
    "    print(\"Marks \", marks)"
   ]
  },
  {
   "cell_type": "code",
   "execution_count": 229,
   "id": "8659b4b4",
   "metadata": {},
   "outputs": [],
   "source": [
    "Clsmethod.marks = classmethod(marks) # adding to the current class"
   ]
  },
  {
   "cell_type": "code",
   "execution_count": 231,
   "id": "e5d31be9",
   "metadata": {},
   "outputs": [
    {
     "name": "stdout",
     "output_type": "stream",
     "text": [
      "Marks  12\n"
     ]
    }
   ],
   "source": [
    "Clsmethod.marks(12)"
   ]
  },
  {
   "cell_type": "code",
   "execution_count": 233,
   "id": "8f6ac449",
   "metadata": {},
   "outputs": [],
   "source": [
    "cl1 = Clsmethod(\"hiren\",\"dhfkd\")"
   ]
  },
  {
   "cell_type": "code",
   "execution_count": 234,
   "id": "fa982145",
   "metadata": {},
   "outputs": [
    {
     "name": "stdout",
     "output_type": "stream",
     "text": [
      "Marks  22\n"
     ]
    }
   ],
   "source": [
    "cl1.marks(22)"
   ]
  },
  {
   "cell_type": "markdown",
   "id": "10e97c95",
   "metadata": {},
   "source": [
    "# Static Method\n",
    "\n",
    "`@staticmethod` is a built-in Python decorator that defines a method that does not operate on an instance or class but is related to the class. Static methods do not require access to the instance (`self`) or class (`cls`) and are used for utility functions that perform a task in isolation.\n",
    "\n",
    "## Theory of Static Method\n",
    "\n",
    "Static methods are defined using the `@staticmethod` decorator above the method definition. They are similar to regular functions but belong to the class's namespace. Static methods can be called using the class name or an instance, but they do not have access to class or instance attributes.\n",
    "\n",
    "### Syntax of Static Method\n",
    "\n",
    "```python\n",
    "class MyClass:\n",
    "    @staticmethod\n",
    "    def static_method(arg1, arg2, ...):\n",
    "        # method body\n"
   ]
  },
  {
   "cell_type": "code",
   "execution_count": 2,
   "id": "8e15d6ce",
   "metadata": {},
   "outputs": [],
   "source": [
    "class test:\n",
    "    def __init__(self, name, age):\n",
    "        self.name = name\n",
    "        self.age = age\n",
    "    def instance_method(self, email):\n",
    "        print(email)\n",
    "        print(self.name)\n",
    "    def mentor_details(self, lst):\n",
    "        print(lst)\n",
    "    @staticmethod\n",
    "    def lst_mentor(lst):\n",
    "        print(lst)"
   ]
  },
  {
   "cell_type": "code",
   "execution_count": 3,
   "id": "724d1855",
   "metadata": {},
   "outputs": [
    {
     "name": "stdout",
     "output_type": "stream",
     "text": [
      "hiren@gmail.com\n",
      "Hiren\n",
      "Khush@gmail.com\n",
      "Khush\n",
      "['Hiren', 'Patel']\n",
      "['Hiren', 'Patel']\n",
      "['Hiren', 'Patel']\n"
     ]
    }
   ],
   "source": [
    "t = test(\"Hiren\",25)\n",
    "t.instance_method(\"hiren@gmail.com\")\n",
    "t1 = test(\"Khush\",25)\n",
    "t1.instance_method(\"Khush@gmail.com\")\n",
    "\n",
    "# we have to create object to print the details this will occupy memory.\n",
    "t1.mentor_details(['Hiren','Patel'])\n",
    "t.mentor_details(['Hiren','Patel'])\n",
    "# Here, as we can see that the mentors are the same for each object but still it will ocuupy space for both the object\n",
    "# so, to solve this we have static methods in python\n",
    "#we have default decorator to solve this.\n",
    "test.lst_mentor(['Hiren','Patel'])  # you don't have to create object to get the data"
   ]
  },
  {
   "cell_type": "markdown",
   "id": "398ebb9b",
   "metadata": {},
   "source": [
    "# Special/Magic/Dunder Methods\n",
    "\n",
    "Special methods, also known as magic methods or dunder (double underscore) methods, are predefined methods in Python that have double underscores (`__`) at the beginning and end of their names. These methods enable classes to implement or customize built-in behavior, such as initialization, representation, arithmetic operations, and more. Magic methods allow you to define how objects of your class behave with respect to various operations and built-in functions.\n",
    "\n",
    "## Theory of Special/Magic/Dunder Methods\n",
    "\n",
    "Magic methods are not called directly but are invoked internally by Python's built-in operations and functions. For example, the `__init__` method is called when a new instance of a class is created, `__str__` is called when the `str()` function is used on an object, and `__add__` is called when the `+` operator is used.\n",
    "\n",
    "### Common Magic Methods\n",
    "\n",
    "Here are some common magic methods and their purposes:\n",
    "\n",
    "- `__init__(self, ...)`: Object initializer (constructor).\n",
    "- `__str__(self)`: String representation of the object.\n",
    "- `__repr__(self)`: Official string representation of the object.\n",
    "- `__len__(self)`: Returns the length of the object.\n",
    "- `__getitem__(self, key)`: Retrieves an item using the subscript notation.\n",
    "- `__setitem__(self, key, value)`: Sets an item using the subscript notation.\n",
    "- `__delitem__(self, key)`: Deletes an item using the subscript notation.\n",
    "- `__iter__(self)`: Returns an iterator object.\n",
    "- `__next__(self)`: Returns the next item from an iterator.\n",
    "- `__call__(self, ...)`: Makes an instance callable like a function.\n",
    "- `__add__(self, other)`: Implements the addition operator `+`.\n",
    "- `__eq__(self, other)`: Implements the equality operator `==`.\n",
    "\n",
    "### Syntax of Magic Methods\n",
    "\n",
    "```python\n",
    "class MyClass:\n",
    "    def __init__(self, arg1, arg2):\n",
    "        self.arg1 = arg1\n",
    "        self.arg2 = arg2\n",
    "\n",
    "    def __str__(self):\n",
    "        return f\"MyClass({self.arg1}, {self.arg2})\"\n"
   ]
  },
  {
   "cell_type": "code",
   "execution_count": 6,
   "id": "065a53d1",
   "metadata": {},
   "outputs": [
    {
     "data": {
      "text/plain": [
       "30"
      ]
     },
     "execution_count": 6,
     "metadata": {},
     "output_type": "execute_result"
    }
   ],
   "source": [
    "a = 10\n",
    "a.__add__(20)"
   ]
  },
  {
   "cell_type": "code",
   "execution_count": 7,
   "id": "b319a412",
   "metadata": {},
   "outputs": [
    {
     "data": {
      "text/plain": [
       "['__add__',\n",
       " '__class__',\n",
       " '__contains__',\n",
       " '__delattr__',\n",
       " '__dir__',\n",
       " '__doc__',\n",
       " '__eq__',\n",
       " '__format__',\n",
       " '__ge__',\n",
       " '__getattribute__',\n",
       " '__getitem__',\n",
       " '__getnewargs__',\n",
       " '__getstate__',\n",
       " '__gt__',\n",
       " '__hash__',\n",
       " '__init__',\n",
       " '__init_subclass__',\n",
       " '__iter__',\n",
       " '__le__',\n",
       " '__len__',\n",
       " '__lt__',\n",
       " '__mod__',\n",
       " '__mul__',\n",
       " '__ne__',\n",
       " '__new__',\n",
       " '__reduce__',\n",
       " '__reduce_ex__',\n",
       " '__repr__',\n",
       " '__rmod__',\n",
       " '__rmul__',\n",
       " '__setattr__',\n",
       " '__sizeof__',\n",
       " '__str__',\n",
       " '__subclasshook__',\n",
       " 'capitalize',\n",
       " 'casefold',\n",
       " 'center',\n",
       " 'count',\n",
       " 'encode',\n",
       " 'endswith',\n",
       " 'expandtabs',\n",
       " 'find',\n",
       " 'format',\n",
       " 'format_map',\n",
       " 'index',\n",
       " 'isalnum',\n",
       " 'isalpha',\n",
       " 'isascii',\n",
       " 'isdecimal',\n",
       " 'isdigit',\n",
       " 'isidentifier',\n",
       " 'islower',\n",
       " 'isnumeric',\n",
       " 'isprintable',\n",
       " 'isspace',\n",
       " 'istitle',\n",
       " 'isupper',\n",
       " 'join',\n",
       " 'ljust',\n",
       " 'lower',\n",
       " 'lstrip',\n",
       " 'maketrans',\n",
       " 'partition',\n",
       " 'removeprefix',\n",
       " 'removesuffix',\n",
       " 'replace',\n",
       " 'rfind',\n",
       " 'rindex',\n",
       " 'rjust',\n",
       " 'rpartition',\n",
       " 'rsplit',\n",
       " 'rstrip',\n",
       " 'split',\n",
       " 'splitlines',\n",
       " 'startswith',\n",
       " 'strip',\n",
       " 'swapcase',\n",
       " 'title',\n",
       " 'translate',\n",
       " 'upper',\n",
       " 'zfill']"
      ]
     },
     "execution_count": 7,
     "metadata": {},
     "output_type": "execute_result"
    }
   ],
   "source": [
    "dir(str)"
   ]
  },
  {
   "cell_type": "code",
   "execution_count": 8,
   "id": "0b2e62b4",
   "metadata": {},
   "outputs": [],
   "source": [
    "class test2:\n",
    "    def __new__(self):\n",
    "        print(\"This is new method\")\n",
    "    def __init__(self):\n",
    "        print(\"This is init\")"
   ]
  },
  {
   "cell_type": "code",
   "execution_count": 9,
   "id": "322b3320",
   "metadata": {},
   "outputs": [
    {
     "name": "stdout",
     "output_type": "stream",
     "text": [
      "This is new method\n"
     ]
    }
   ],
   "source": [
    "t1 = test2()"
   ]
  },
  {
   "cell_type": "code",
   "execution_count": 10,
   "id": "f61c1c80",
   "metadata": {},
   "outputs": [],
   "source": [
    "class test3:\n",
    "    def __init__(self):\n",
    "        self.mobile = 123456"
   ]
  },
  {
   "cell_type": "code",
   "execution_count": 12,
   "id": "be6f102b",
   "metadata": {},
   "outputs": [
    {
     "data": {
      "text/plain": [
       "<__main__.test3 at 0x161146687d0>"
      ]
     },
     "execution_count": 12,
     "metadata": {},
     "output_type": "execute_result"
    }
   ],
   "source": [
    "t1 = test3()\n",
    "t1"
   ]
  },
  {
   "cell_type": "code",
   "execution_count": 14,
   "id": "a0422a13",
   "metadata": {},
   "outputs": [
    {
     "name": "stdout",
     "output_type": "stream",
     "text": [
      "<__main__.test3 object at 0x00000161146687D0>\n"
     ]
    }
   ],
   "source": [
    "print(t1)  ## this will return object address. I want to change it and give it some meaningful statement for it"
   ]
  },
  {
   "cell_type": "code",
   "execution_count": 15,
   "id": "ccb7ae66",
   "metadata": {},
   "outputs": [],
   "source": [
    "class test4:\n",
    "    def __init__(self):\n",
    "        self.mobile = 123456\n",
    "    def __str__(self):\n",
    "        return \"This is replaced string by using magic method\""
   ]
  },
  {
   "cell_type": "code",
   "execution_count": 18,
   "id": "1e96bfc3",
   "metadata": {},
   "outputs": [
    {
     "name": "stdout",
     "output_type": "stream",
     "text": [
      "This is replaced string by using magic method\n"
     ]
    }
   ],
   "source": [
    "t = test4()\n",
    "print(t)"
   ]
  },
  {
   "cell_type": "code",
   "execution_count": 19,
   "id": "2018e1af",
   "metadata": {},
   "outputs": [
    {
     "data": {
      "text/plain": [
       "['__class__',\n",
       " '__class_getitem__',\n",
       " '__contains__',\n",
       " '__delattr__',\n",
       " '__delitem__',\n",
       " '__dir__',\n",
       " '__doc__',\n",
       " '__eq__',\n",
       " '__format__',\n",
       " '__ge__',\n",
       " '__getattribute__',\n",
       " '__getitem__',\n",
       " '__getstate__',\n",
       " '__gt__',\n",
       " '__hash__',\n",
       " '__init__',\n",
       " '__init_subclass__',\n",
       " '__ior__',\n",
       " '__iter__',\n",
       " '__le__',\n",
       " '__len__',\n",
       " '__lt__',\n",
       " '__ne__',\n",
       " '__new__',\n",
       " '__or__',\n",
       " '__reduce__',\n",
       " '__reduce_ex__',\n",
       " '__repr__',\n",
       " '__reversed__',\n",
       " '__ror__',\n",
       " '__setattr__',\n",
       " '__setitem__',\n",
       " '__sizeof__',\n",
       " '__str__',\n",
       " '__subclasshook__',\n",
       " 'clear',\n",
       " 'copy',\n",
       " 'fromkeys',\n",
       " 'get',\n",
       " 'items',\n",
       " 'keys',\n",
       " 'pop',\n",
       " 'popitem',\n",
       " 'setdefault',\n",
       " 'update',\n",
       " 'values']"
      ]
     },
     "execution_count": 19,
     "metadata": {},
     "output_type": "execute_result"
    }
   ],
   "source": [
    "dir(dict)"
   ]
  },
  {
   "cell_type": "markdown",
   "id": "c6358458",
   "metadata": {},
   "source": [
    "# Property Decorators: Getters, Setters, and Deletes\n",
    "\n",
    "Property decorators in Python allow you to define special methods that control the access, assignment, and deletion of class attributes. They provide a way to encapsulate the implementation details of attribute manipulation and ensure proper data validation and consistency within a class.\n",
    "\n",
    "## Theory of Property Decorators\n",
    "\n",
    "Property decorators are implemented using the `@property`, `@<attribute_name>.setter`, and `@<attribute_name>.deleter` decorators. They allow you to define getter, setter, and deleter methods for a specific attribute of a class.\n",
    "\n",
    "### `@property` Decorator\n",
    "\n",
    "The `@property` decorator is used to define a getter method for an attribute. It allows you to access the attribute's value using dot notation without explicitly calling a method.\n",
    "\n",
    "### `@<attribute_name>.setter` Decorator\n",
    "\n",
    "The `@<attribute_name>.setter` decorator is used to define a setter method for an attribute. It allows you to assign a new value to the attribute using dot notation.\n",
    "\n",
    "### `@<attribute_name>.deleter` Decorator\n",
    "\n",
    "The `@<attribute_name>.deleter` decorator is used to define a deleter method for an attribute. It allows you to delete the attribute from an instance using the `del` statement.\n",
    "\n",
    "## Example\n",
    "\n",
    "```python\n",
    "class Temperature:\n",
    "    def __init__(self, celsius):\n",
    "        self._celsius = celsius\n",
    "\n",
    "    @property\n",
    "    def celsius(self):\n",
    "        return self._celsius\n",
    "\n",
    "    @celsius.setter\n",
    "    def celsius(self, value):\n",
    "        if value < -273.15:\n",
    "            raise ValueError(\"Temperature cannot be less than -273.15°C\")\n",
    "        self._celsius = value\n",
    "\n",
    "    @celsius.deleter\n",
    "    def celsius(self):\n",
    "        del self._celsius\n",
    "\n",
    "# Create an instance of Temperature class\n",
    "temp = Temperature(25)\n",
    "\n",
    "# Get the temperature in Celsius\n",
    "print(temp.celsius)  # Output: 25\n",
    "\n",
    "# Set the temperature in Celsius\n",
    "temp.celsius = 30\n",
    "\n",
    "# Get the updated temperature\n",
    "print(temp.celsius)  # Output: 30\n",
    "\n",
    "# Try setting an invalid temperature\n",
    "try:\n",
    "    temp.celsius = -300\n",
    "except ValueError as e:\n",
    "    print(e)           # Output: Temperature cannot be less than -273.15°C\n",
    "\n",
    "# Delete the temperature attribute\n",
    "del temp.celsius\n",
    "\n",
    "# Try accessing the temperature attribute after deletion\n",
    "try:\n",
    "    print(temp.celsius)\n",
    "except AttributeError as e:\n",
    "    print(e)           # Output: 'Temperature' object has no attribute '_celsius'\n"
   ]
  },
  {
   "cell_type": "code",
   "execution_count": 69,
   "id": "75c6cbf4",
   "metadata": {},
   "outputs": [],
   "source": [
    "class civora:\n",
    "    def __init__(self, course_name, course_price):\n",
    "        self.course_name = course_name\n",
    "        self.__course_price = course_price\n",
    "    @property\n",
    "    def expose_private(self):  ## By using property decorator one can return private variable\n",
    "        return self.__course_price\n",
    "    @expose_private.setter\n",
    "    def expose_more(self, price):\n",
    "        if self.__course_price < 5000:\n",
    "            pass\n",
    "        else:\n",
    "            self.__course_price = price\n",
    "    @expose_private.deleter\n",
    "    def expose_less(self):\n",
    "        del self.__course_price\n",
    "        print(\"Deleted\")"
   ]
  },
  {
   "cell_type": "code",
   "execution_count": 70,
   "id": "115f7e60",
   "metadata": {},
   "outputs": [],
   "source": [
    "c=  civora(\"Data science\",12000)"
   ]
  },
  {
   "cell_type": "code",
   "execution_count": 71,
   "id": "36100c67",
   "metadata": {},
   "outputs": [
    {
     "data": {
      "text/plain": [
       "'Data science'"
      ]
     },
     "execution_count": 71,
     "metadata": {},
     "output_type": "execute_result"
    }
   ],
   "source": [
    "c.course_name"
   ]
  },
  {
   "cell_type": "code",
   "execution_count": 72,
   "id": "a2e4c046",
   "metadata": {},
   "outputs": [
    {
     "ename": "AttributeError",
     "evalue": "'civora' object has no attribute 'course_price'",
     "output_type": "error",
     "traceback": [
      "\u001b[1;31m---------------------------------------------------------------------------\u001b[0m",
      "\u001b[1;31mAttributeError\u001b[0m                            Traceback (most recent call last)",
      "Cell \u001b[1;32mIn[72], line 1\u001b[0m\n\u001b[1;32m----> 1\u001b[0m c\u001b[38;5;241m.\u001b[39mcourse_price\n",
      "\u001b[1;31mAttributeError\u001b[0m: 'civora' object has no attribute 'course_price'"
     ]
    }
   ],
   "source": [
    "c.course_price  ## because this is private"
   ]
  },
  {
   "cell_type": "code",
   "execution_count": 73,
   "id": "75845923",
   "metadata": {},
   "outputs": [
    {
     "data": {
      "text/plain": [
       "12000"
      ]
     },
     "execution_count": 73,
     "metadata": {},
     "output_type": "execute_result"
    }
   ],
   "source": [
    "c._civora__course_price"
   ]
  },
  {
   "cell_type": "code",
   "execution_count": 74,
   "id": "f3fdf02e",
   "metadata": {},
   "outputs": [
    {
     "data": {
      "text/plain": [
       "12000"
      ]
     },
     "execution_count": 74,
     "metadata": {},
     "output_type": "execute_result"
    }
   ],
   "source": [
    "c.expose_private"
   ]
  },
  {
   "cell_type": "code",
   "execution_count": 75,
   "id": "5c12acfb",
   "metadata": {},
   "outputs": [],
   "source": [
    "c.expose_more = 15000"
   ]
  },
  {
   "cell_type": "code",
   "execution_count": 76,
   "id": "80d1626c",
   "metadata": {},
   "outputs": [
    {
     "data": {
      "text/plain": [
       "15000"
      ]
     },
     "execution_count": 76,
     "metadata": {},
     "output_type": "execute_result"
    }
   ],
   "source": [
    "c.expose_private"
   ]
  },
  {
   "cell_type": "code",
   "execution_count": 79,
   "id": "0a1a0698",
   "metadata": {},
   "outputs": [
    {
     "name": "stdout",
     "output_type": "stream",
     "text": [
      "Deleted\n"
     ]
    }
   ],
   "source": [
    "del c.expose_less"
   ]
  },
  {
   "cell_type": "markdown",
   "id": "d006bc17",
   "metadata": {},
   "source": [
    "## Everything about numpy"
   ]
  },
  {
   "cell_type": "code",
   "execution_count": 31,
   "id": "31f75c62",
   "metadata": {},
   "outputs": [
    {
     "name": "stdout",
     "output_type": "stream",
     "text": [
      "Requirement already satisfied: numpy in c:\\users\\admin\\anaconda3\\lib\\site-packages (1.24.3)\n",
      "Note: you may need to restart the kernel to use updated packages.\n"
     ]
    }
   ],
   "source": [
    "pip install numpy"
   ]
  },
  {
   "cell_type": "code",
   "execution_count": 32,
   "id": "80ae946a",
   "metadata": {},
   "outputs": [],
   "source": [
    "import numpy as np"
   ]
  },
  {
   "cell_type": "code",
   "execution_count": 34,
   "id": "edaaa054",
   "metadata": {},
   "outputs": [],
   "source": [
    "arr = np.array([1,2,3,4,5])"
   ]
  },
  {
   "cell_type": "code",
   "execution_count": 35,
   "id": "36e07be9",
   "metadata": {},
   "outputs": [
    {
     "data": {
      "text/plain": [
       "array([1, 2, 3, 4, 5])"
      ]
     },
     "execution_count": 35,
     "metadata": {},
     "output_type": "execute_result"
    }
   ],
   "source": [
    "arr"
   ]
  },
  {
   "cell_type": "code",
   "execution_count": 36,
   "id": "a7f70dea",
   "metadata": {},
   "outputs": [
    {
     "name": "stdout",
     "output_type": "stream",
     "text": [
      "<class 'numpy.ndarray'>\n"
     ]
    }
   ],
   "source": [
    "print(type(arr))"
   ]
  },
  {
   "cell_type": "markdown",
   "id": "9764b6a0",
   "metadata": {},
   "source": [
    "## Create a numpy array with different dimension"
   ]
  },
  {
   "cell_type": "code",
   "execution_count": 40,
   "id": "65e4f234",
   "metadata": {},
   "outputs": [],
   "source": [
    "scaler = np.array(5)"
   ]
  },
  {
   "cell_type": "code",
   "execution_count": 41,
   "id": "968fe785",
   "metadata": {},
   "outputs": [
    {
     "name": "stdout",
     "output_type": "stream",
     "text": [
      "<class 'numpy.ndarray'>\n"
     ]
    }
   ],
   "source": [
    "print(type(scaler))"
   ]
  },
  {
   "cell_type": "code",
   "execution_count": 45,
   "id": "a755fe8a",
   "metadata": {},
   "outputs": [
    {
     "name": "stdout",
     "output_type": "stream",
     "text": [
      "0\n"
     ]
    }
   ],
   "source": [
    "print(np.ndim(scaler))"
   ]
  },
  {
   "cell_type": "markdown",
   "id": "ff06c0ba",
   "metadata": {},
   "source": [
    "### Creating one dimensional array"
   ]
  },
  {
   "cell_type": "code",
   "execution_count": 46,
   "id": "ed6db849",
   "metadata": {},
   "outputs": [],
   "source": [
    "l = [1,2,3,4,5,6]\n",
    "a = np.array(l)"
   ]
  },
  {
   "cell_type": "code",
   "execution_count": 47,
   "id": "69439dde",
   "metadata": {},
   "outputs": [
    {
     "name": "stdout",
     "output_type": "stream",
     "text": [
      "1\n"
     ]
    }
   ],
   "source": [
    "print(np.ndim(a))"
   ]
  },
  {
   "cell_type": "code",
   "execution_count": 49,
   "id": "34d75352",
   "metadata": {},
   "outputs": [
    {
     "name": "stdout",
     "output_type": "stream",
     "text": [
      "int32\n"
     ]
    }
   ],
   "source": [
    "print(a.dtype)"
   ]
  },
  {
   "cell_type": "markdown",
   "id": "721015d5",
   "metadata": {},
   "source": [
    "### Creating two dimensional array"
   ]
  },
  {
   "cell_type": "code",
   "execution_count": 53,
   "id": "7e11e83c",
   "metadata": {},
   "outputs": [],
   "source": [
    "l2 = [[1,2,3,4,5,6],[5,6,4,7,8,9],[10,11,12,13,14,15]]\n",
    "a = np.array(l2)"
   ]
  },
  {
   "cell_type": "code",
   "execution_count": 54,
   "id": "059eedd3",
   "metadata": {},
   "outputs": [
    {
     "name": "stdout",
     "output_type": "stream",
     "text": [
      "2\n"
     ]
    }
   ],
   "source": [
    "print(np.ndim(a))"
   ]
  },
  {
   "cell_type": "code",
   "execution_count": 55,
   "id": "1cf8fc0e",
   "metadata": {},
   "outputs": [
    {
     "name": "stdout",
     "output_type": "stream",
     "text": [
      "int32\n"
     ]
    }
   ],
   "source": [
    "print(a.dtype)"
   ]
  },
  {
   "cell_type": "markdown",
   "id": "60664e9a",
   "metadata": {},
   "source": [
    "### Creating three dimensional array"
   ]
  },
  {
   "cell_type": "code",
   "execution_count": 58,
   "id": "d2a6ba46",
   "metadata": {},
   "outputs": [
    {
     "name": "stdout",
     "output_type": "stream",
     "text": [
      "3\n",
      "int32\n"
     ]
    }
   ],
   "source": [
    "l2 = [[[1,2,3,4,5,6],[5,6,4,7,8,9],[10,11,12,13,14,15]]]\n",
    "a = np.array(l2)\n",
    "print(np.ndim(a))\n",
    "print(a.dtype)"
   ]
  },
  {
   "cell_type": "markdown",
   "id": "42ed2d29",
   "metadata": {},
   "source": [
    "## List vs Numpy"
   ]
  },
  {
   "cell_type": "code",
   "execution_count": 60,
   "id": "24127514",
   "metadata": {},
   "outputs": [],
   "source": [
    "# both are used to store data\n",
    "# both are mutable"
   ]
  },
  {
   "cell_type": "code",
   "execution_count": 61,
   "id": "aa906c08",
   "metadata": {},
   "outputs": [],
   "source": [
    "# list can contains multiple data type but array can only support single data type"
   ]
  },
  {
   "cell_type": "code",
   "execution_count": 62,
   "id": "cedd94cf",
   "metadata": {},
   "outputs": [],
   "source": [
    "# for eg:"
   ]
  },
  {
   "cell_type": "code",
   "execution_count": 63,
   "id": "e826a83e",
   "metadata": {},
   "outputs": [],
   "source": [
    "l = [1,2,3,5.12,\"hiren\"] "
   ]
  },
  {
   "cell_type": "code",
   "execution_count": 65,
   "id": "af42a4ce",
   "metadata": {},
   "outputs": [
    {
     "name": "stdout",
     "output_type": "stream",
     "text": [
      "['1' '2' '3' '5.12' 'hiren']\n"
     ]
    }
   ],
   "source": [
    "print(np.array(l))  ## converting all of the values in to the string"
   ]
  },
  {
   "cell_type": "code",
   "execution_count": 67,
   "id": "c661c07c",
   "metadata": {},
   "outputs": [],
   "source": [
    "# way of performing operation"
   ]
  },
  {
   "cell_type": "code",
   "execution_count": 68,
   "id": "4a6666be",
   "metadata": {},
   "outputs": [],
   "source": [
    "# array\n",
    "arr = np.array([5,10,15,20])"
   ]
  },
  {
   "cell_type": "code",
   "execution_count": 69,
   "id": "74519e35",
   "metadata": {},
   "outputs": [
    {
     "name": "stdout",
     "output_type": "stream",
     "text": [
      "[1. 2. 3. 4.]\n"
     ]
    }
   ],
   "source": [
    "print(arr/5)"
   ]
  },
  {
   "cell_type": "code",
   "execution_count": 70,
   "id": "f1895f27",
   "metadata": {},
   "outputs": [],
   "source": [
    "# list\n",
    "l = [5,10,15,20]"
   ]
  },
  {
   "cell_type": "code",
   "execution_count": 71,
   "id": "51da9400",
   "metadata": {},
   "outputs": [
    {
     "ename": "TypeError",
     "evalue": "unsupported operand type(s) for /: 'list' and 'int'",
     "output_type": "error",
     "traceback": [
      "\u001b[1;31m---------------------------------------------------------------------------\u001b[0m",
      "\u001b[1;31mTypeError\u001b[0m                                 Traceback (most recent call last)",
      "Cell \u001b[1;32mIn[71], line 1\u001b[0m\n\u001b[1;32m----> 1\u001b[0m \u001b[38;5;28mprint\u001b[39m(l\u001b[38;5;241m/\u001b[39m\u001b[38;5;241m2\u001b[39m)\n",
      "\u001b[1;31mTypeError\u001b[0m: unsupported operand type(s) for /: 'list' and 'int'"
     ]
    }
   ],
   "source": [
    "print(l/2)"
   ]
  },
  {
   "cell_type": "markdown",
   "id": "8dc3626f",
   "metadata": {},
   "source": [
    "## reshaping numpy array"
   ]
  },
  {
   "cell_type": "code",
   "execution_count": 81,
   "id": "78f242d6",
   "metadata": {},
   "outputs": [
    {
     "name": "stdout",
     "output_type": "stream",
     "text": [
      "[ 0  1  2  3  4  5  6  7  8  9 10 11]\n",
      "int32\n",
      "(12,)\n",
      "1\n"
     ]
    }
   ],
   "source": [
    "a = np.arange(12)\n",
    "print(a)\n",
    "print(a.dtype)\n",
    "print(np.shape(a))\n",
    "print(np.ndim(a))"
   ]
  },
  {
   "cell_type": "code",
   "execution_count": 75,
   "id": "f00a0629",
   "metadata": {},
   "outputs": [],
   "source": [
    "new_a = a.reshape(2,6)"
   ]
  },
  {
   "cell_type": "code",
   "execution_count": 82,
   "id": "741d2d23",
   "metadata": {},
   "outputs": [
    {
     "name": "stdout",
     "output_type": "stream",
     "text": [
      "[[ 0  1  2  3  4  5]\n",
      " [ 6  7  8  9 10 11]]\n",
      "int32\n",
      "(2, 6)\n",
      "2\n"
     ]
    }
   ],
   "source": [
    "print(new_a)\n",
    "print(new_a.dtype)\n",
    "print(np.shape(new_a))\n",
    "print(np.ndim(new_a))"
   ]
  },
  {
   "cell_type": "code",
   "execution_count": 83,
   "id": "b1de42c0",
   "metadata": {},
   "outputs": [
    {
     "data": {
      "text/plain": [
       "array([1.  , 2.  , 3.  , 1.25])"
      ]
     },
     "execution_count": 83,
     "metadata": {},
     "output_type": "execute_result"
    }
   ],
   "source": [
    "np.array([1,2,3,1.25])"
   ]
  },
  {
   "cell_type": "code",
   "execution_count": null,
   "id": "a51f535e",
   "metadata": {},
   "outputs": [],
   "source": []
  }
 ],
 "metadata": {
  "kernelspec": {
   "display_name": "Python 3 (ipykernel)",
   "language": "python",
   "name": "python3"
  },
  "language_info": {
   "codemirror_mode": {
    "name": "ipython",
    "version": 3
   },
   "file_extension": ".py",
   "mimetype": "text/x-python",
   "name": "python",
   "nbconvert_exporter": "python",
   "pygments_lexer": "ipython3",
   "version": "3.11.5"
  }
 },
 "nbformat": 4,
 "nbformat_minor": 5
}
